{
 "cells": [
  {
   "cell_type": "code",
   "execution_count": 3,
   "id": "bbbf1621",
   "metadata": {},
   "outputs": [],
   "source": [
    "import fitz  # PyMuPDF\n",
    "import re\n",
    "\n",
    "def extract_pdf_text(file_path: str) -> str:\n",
    "    \"\"\"Extract full text from a PDF using PyMuPDF.\"\"\"\n",
    "    doc = fitz.open(file_path)\n",
    "    text = \"\"\n",
    "    for page in doc:\n",
    "        text += page.get_text(\"text\") + \"\\n\"\n",
    "    return text\n",
    "\n",
    "def extract_transactions(raw_text: str) -> str:\n",
    "    \"\"\"\n",
    "    Keep only lines that look like transactions:\n",
    "    MM/DD description amount\n",
    "    Example:\n",
    "        07/27 Starbucks $5.25\n",
    "    \"\"\"\n",
    "    # Pattern: MM/DD ... amount\n",
    "    pattern = r\"(\\d{2}/\\d{2}(?:/\\d{2})?)\\s+(.+?)\\s+(-?\\$?\\d+\\.\\d{2})\"\n",
    "    matches = re.findall(pattern, raw_text)\n",
    "\n",
    "    transactions = []\n",
    "    for m in matches:\n",
    "        date, merchant, amount = m\n",
    "        # normalize amount (remove $ sign and handle negatives)\n",
    "        amt = amount.replace(\"$\", \"\")\n",
    "        transactions.append(f\"{date} | {merchant.strip()} | {amt}\")\n",
    "    return \"\\n\".join(transactions)\n",
    "\n"
   ]
  },
  {
   "cell_type": "code",
   "execution_count": 9,
   "id": "c7f6d631",
   "metadata": {},
   "outputs": [
    {
     "name": "stdout",
     "output_type": "stream",
     "text": [
      "🔹 Extracted Transactions:\n",
      "No transactions found.\n"
     ]
    }
   ],
   "source": [
    "if __name__ == \"__main__\":\n",
    "    pdf_path = \"/Users/yashitajain/Downloads/Aug_13_-_Sep_11_2025.pdf\"   # 👈 replace with your PDF path\n",
    "    text = extract_pdf_text(pdf_path)\n",
    "    transactions = extract_transactions(text)\n",
    "\n",
    "    print(\"🔹 Extracted Transactions:\")\n",
    "    print(transactions if transactions else \"No transactions found.\")"
   ]
  },
  {
   "cell_type": "code",
   "execution_count": 2,
   "id": "c24b1d39",
   "metadata": {},
   "outputs": [
    {
     "ename": "NameError",
     "evalue": "name 're' is not defined",
     "output_type": "error",
     "traceback": [
      "\u001b[31m---------------------------------------------------------------------------\u001b[39m",
      "\u001b[31mNameError\u001b[39m                                 Traceback (most recent call last)",
      "\u001b[36mCell\u001b[39m\u001b[36m \u001b[39m\u001b[32mIn[2]\u001b[39m\u001b[32m, line 2\u001b[39m\n\u001b[32m      1\u001b[39m pattern = \u001b[33mr\u001b[39m\u001b[33m\"\u001b[39m\u001b[33m(\u001b[39m\u001b[33m\\\u001b[39m\u001b[33md\u001b[39m\u001b[38;5;132;01m{2}\u001b[39;00m\u001b[33m/\u001b[39m\u001b[33m\\\u001b[39m\u001b[33md\u001b[39m\u001b[38;5;132;01m{2}\u001b[39;00m\u001b[33m)\u001b[39m\u001b[33m\\\u001b[39m\u001b[33ms+(.+?)\u001b[39m\u001b[33m\\\u001b[39m\u001b[33ms+(-?\u001b[39m\u001b[33m\\\u001b[39m\u001b[33m$?\u001b[39m\u001b[33m\\\u001b[39m\u001b[33md+\u001b[39m\u001b[33m\\\u001b[39m\u001b[33m.\u001b[39m\u001b[33m\\\u001b[39m\u001b[33md\u001b[39m\u001b[38;5;132;01m{2}\u001b[39;00m\u001b[33m)\u001b[39m\u001b[33m\"\u001b[39m\n\u001b[32m----> \u001b[39m\u001b[32m2\u001b[39m matches = \u001b[43mre\u001b[49m.findall(pattern, text)\n",
      "\u001b[31mNameError\u001b[39m: name 're' is not defined"
     ]
    }
   ],
   "source": [
    "pattern = r\"(\\d{2}/\\d{2})\\s+(.+?)\\s+(-?\\$?\\d+\\.\\d{2})\"\n",
    "matches = re.findall(pattern, text)\n"
   ]
  },
  {
   "cell_type": "code",
   "execution_count": 11,
   "id": "c1c895ea",
   "metadata": {},
   "outputs": [
    {
     "name": "stdout",
     "output_type": "stream",
     "text": [
      "'American Express® Gold Card\\nSHRIYANKA JAIN\\nClosing Date 09/11/25\\nAccount Ending 2-31009\\nCustomer Care:\\n1-800-327-2177\\nTTY:\\nUse Relay 711\\nWebsite:\\namericanexpress.com\\nAmount  Enclosed\\nPayment Coupon\\nDo'\n"
     ]
    }
   ],
   "source": [
    "print(repr(text[:200]))"
   ]
  },
  {
   "cell_type": "code",
   "execution_count": null,
   "id": "5752585c",
   "metadata": {},
   "outputs": [],
   "source": []
  }
 ],
 "metadata": {
  "kernelspec": {
   "display_name": "venv",
   "language": "python",
   "name": "python3"
  },
  "language_info": {
   "codemirror_mode": {
    "name": "ipython",
    "version": 3
   },
   "file_extension": ".py",
   "mimetype": "text/x-python",
   "name": "python",
   "nbconvert_exporter": "python",
   "pygments_lexer": "ipython3",
   "version": "3.11.0"
  }
 },
 "nbformat": 4,
 "nbformat_minor": 5
}
